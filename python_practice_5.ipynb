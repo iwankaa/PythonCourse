{
  "nbformat": 4,
  "nbformat_minor": 0,
  "metadata": {
    "colab": {
      "provenance": []
    },
    "kernelspec": {
      "name": "python3",
      "display_name": "Python 3"
    },
    "language_info": {
      "name": "python"
    }
  },
  "cells": [
    {
      "cell_type": "markdown",
      "source": [
        "# I. OOP"
      ],
      "metadata": {
        "id": "5qV_sehzFCTp"
      }
    },
    {
      "cell_type": "markdown",
      "source": [
        "1. (6б). Створіть клас Animal, додайте три атрибути, один з яких має значення за замовчуванням та два методи на свій розсуд."
      ],
      "metadata": {
        "id": "tx_U_hOALyfg"
      }
    },
    {
      "cell_type": "code",
      "source": [
        "class Animal:\n",
        "  def __init__(self, color, paws, hair = \"long\"):\n",
        "    self.color = color\n",
        "    self.paws = paws\n",
        "    self.hair = hair\n",
        "\n",
        "  def moulting(self):\n",
        "    self.hair = \"short\"\n",
        "    return None\n",
        "\n",
        "  def animal_info(self):\n",
        "    return f\"Animal with {self.color} hair, {self.paws} paws and {self.hair} hair\"\n"
      ],
      "metadata": {
        "id": "-Vf895KaL88N"
      },
      "execution_count": 5,
      "outputs": []
    },
    {
      "cell_type": "markdown",
      "source": [
        "2. (2б). Створіть два обʼєкти цього класу, де один з обʼєктів створюється із дефолтним значенням атрибуту. На одному обʼєкті отримайте значення його атрибуту, а на іншому викличте один з його методів."
      ],
      "metadata": {
        "id": "X_UlOMB0L93w"
      }
    },
    {
      "cell_type": "code",
      "source": [
        "dog = Animal(\"black\", 4)\n",
        "hamster = Animal(\"white\", 4, \"short\")\n",
        "\n",
        "print(dog.paws)\n",
        "\n",
        "hamster.animal_info()"
      ],
      "metadata": {
        "id": "7gBu0ESOMCpG",
        "colab": {
          "base_uri": "https://localhost:8080/",
          "height": 50
        },
        "outputId": "4644e159-594e-4de1-c44b-d23f4323212b"
      },
      "execution_count": 6,
      "outputs": [
        {
          "output_type": "stream",
          "name": "stdout",
          "text": [
            "4\n"
          ]
        },
        {
          "output_type": "execute_result",
          "data": {
            "text/plain": [
              "'Animal with white hair, 4 paws and short hair'"
            ],
            "application/vnd.google.colaboratory.intrinsic+json": {
              "type": "string"
            }
          },
          "metadata": {},
          "execution_count": 6
        }
      ]
    },
    {
      "cell_type": "markdown",
      "source": [
        "3. (5б). Створіть клас, де атрибути мають різні рівні доступу. Спробуйте отримати їхні значення та опишіть результати."
      ],
      "metadata": {
        "id": "HoqSCZt1MHn5"
      }
    },
    {
      "cell_type": "code",
      "source": [
        "class MyClass:\n",
        "    def __init__(self):\n",
        "        self.public_attribute = \"Public attribute\"\n",
        "        self._protected_attribute = \"Protected attribute\"\n",
        "        self.__private_attribute = \"Private attribute\"\n",
        "\n",
        "my_class = MyClass()\n",
        "\n",
        "# Отримуємо значення публічного атрибута\n",
        "print(my_class.public_attribute)\n",
        "\n",
        "# Отримуємо значення атрибута з обмеженим доступом\n",
        "print(obj._protected_attribute)\n",
        "# Спроба отримати значення приватного атрибута призведе до помилки\n",
        "# Такий атрибут не доступний поза межами класу\n",
        "#print(obj.__private_attribute)\n",
        "\n",
        "# Спосіб отримати значення приватного атрибута\n",
        "print(obj._MyClass__private_attribute)"
      ],
      "metadata": {
        "id": "r9b3vJxBMSPV",
        "colab": {
          "base_uri": "https://localhost:8080/"
        },
        "outputId": "ae571baa-23da-4ff6-a5db-0588cec01f39"
      },
      "execution_count": 12,
      "outputs": [
        {
          "output_type": "stream",
          "name": "stdout",
          "text": [
            "Public attribute\n",
            "Protected attribute\n",
            "Private attribute\n"
          ]
        }
      ]
    },
    {
      "cell_type": "markdown",
      "source": [
        "4. (7б). Як ви розумієте термін self? Для чого використовується метод __init __?"
      ],
      "metadata": {
        "id": "5op2m2vgMSkZ"
      }
    },
    {
      "cell_type": "markdown",
      "source": [
        "self використовується для посилання на поточний об'єкт класу\n",
        "метод __init__ викликається після створення нового об'єкта для його ініціалізації"
      ],
      "metadata": {
        "id": "DyiPqNRvMasx"
      }
    },
    {
      "cell_type": "markdown",
      "source": [
        "5. (9б). Створіть клас Фігура без атрибутів, з методом get_area для отримання площі фігури, що повертає 0 та __add __, який приймає self та other в якості аргументів, а повертає суму площин фігур self та other."
      ],
      "metadata": {
        "id": "-6X8EGfjMd2y"
      }
    },
    {
      "cell_type": "code",
      "source": [
        "class Figure:\n",
        "  def get_area(self):\n",
        "    return 0\n",
        "\n",
        "  def __add__(self, other):\n",
        "    return self.get_area() + other.get_area()"
      ],
      "metadata": {
        "id": "4rvO_wYUMaEr"
      },
      "execution_count": 14,
      "outputs": []
    },
    {
      "cell_type": "markdown",
      "source": [
        "6. (11б). Створіть 2 дочірніх класи від Фігури: Трикутник та Коло, які мають атрибути, необхідні для розрахунку площин. Визначте метод get_area в кожному з них так, щоби вони розраховували площу в залежності від формули для кожного типу фігури. Створіть обʼєкт класу Трикутник та обʼєкт класу Коло. Виконайте операцію суми за допомогою оператора + між ними."
      ],
      "metadata": {
        "id": "SFcKnnv5Mo_z"
      }
    },
    {
      "cell_type": "code",
      "source": [
        "import math\n",
        "\n",
        "class Triangle(Figure):\n",
        "  def __init__(self, height, base):\n",
        "    self.height = height\n",
        "    self.base = base\n",
        "\n",
        "  def get_area(self):\n",
        "    return 0.5 * self.height * self.base\n",
        "\n",
        "\n",
        "class Circle(Figure):\n",
        "  def __init__(self, radius):\n",
        "    self.radius = radius\n",
        "\n",
        "  def get_area(self):\n",
        "        return math.pi * self.radius ** 2\n",
        "\n",
        "\n",
        "triangle = Triangle(15,7)\n",
        "circle = Circle(3)\n",
        "\n",
        "\n",
        "print(\"Sum of areas : \",(triangle.get_area() + circle.get_area()))\n"
      ],
      "metadata": {
        "id": "H3GVNr69Muf3",
        "colab": {
          "base_uri": "https://localhost:8080/"
        },
        "outputId": "a0583d18-319f-42dc-e20f-8b88718a84fb"
      },
      "execution_count": 16,
      "outputs": [
        {
          "output_type": "stream",
          "name": "stdout",
          "text": [
            "Sum of areas :  80.77433388230814\n"
          ]
        }
      ]
    },
    {
      "cell_type": "markdown",
      "source": [
        "7. (3б). Продемонструйте різницю між isinstance та issubclass."
      ],
      "metadata": {
        "id": "HCvR206YMvLK"
      }
    },
    {
      "cell_type": "code",
      "source": [
        "print(\" triangle is instance of Triangle? \", isinstance(triangle, Triangle))\n",
        "print(\" circle is instance of Circle? \", isinstance(circle, Circle))\n",
        "print(\" triangle is instance of Figure? \", isinstance(triangle, Figure))\n",
        "print(\" circle is instance of Figure? \", isinstance(circle, Figure))\n",
        "\n",
        "print(\" Triangle is subclass of Figure? \", issubclass(Triangle, Figure))\n",
        "print(\" Circle is subclass of Figure? \", issubclass(Circle, Figure))\n",
        "print(\" Figure is subclass of Triangle? \", issubclass(Figure, Triangle))  # False, тому що Figure не є підкласом Triangle"
      ],
      "metadata": {
        "id": "L_V1bBvDM0GN",
        "colab": {
          "base_uri": "https://localhost:8080/"
        },
        "outputId": "e002eb5b-f499-4cce-9eed-bca640952afd"
      },
      "execution_count": 22,
      "outputs": [
        {
          "output_type": "stream",
          "name": "stdout",
          "text": [
            " triangle is instance of Triangle?  True\n",
            " circle is instance of Circle?  True\n",
            " triangle is instance of Figure?  True\n",
            " circle is instance of Figure?  True\n",
            " Triangle is subclass of Figure?  True\n",
            " Circle is subclass of Figure?  True\n",
            " Figure is subclass of Triangle?  False\n"
          ]
        }
      ]
    },
    {
      "cell_type": "markdown",
      "source": [
        "8. (13б). Створіть клас BankAccount з приватними атрибутами balance та account_number. Реалізуйте методи поповнення та зняття коштів, забезпечивши належну інкапсуляцію. Підказка: використовуйте декоратори property та setter."
      ],
      "metadata": {
        "id": "jjsaBZ-iM0Qq"
      }
    },
    {
      "cell_type": "code",
      "source": [
        "class BankAccount:\n",
        "  def __init__(self, balance, account_number):\n",
        "    self.__balance = balance\n",
        "    self.account_number = account_number\n",
        "\n",
        "  @property\n",
        "  def balance(self):\n",
        "    return self._balance\n",
        "\n",
        "  @balance.setter\n",
        "  def balance(self, amount):\n",
        "    if amount < 0:\n",
        "      print('Amount must be a positive number')\n",
        "    else:\n",
        "      self.__balance = amount\n",
        "\n",
        "  def card_replenishment(self,amount):\n",
        "    if amount < 0:\n",
        "      print('Amount must be a positive number')\n",
        "    else:\n",
        "      self.balance += amount\n",
        "      print(f'Successfully deposited {amount} units. New balance: {self.balance}')\n",
        "\n",
        "\n",
        "  def card_withdrawal(self,amount):\n",
        "    if amount < 0:\n",
        "      print('Amount must be a positive number')\n",
        "    elif amount > self.balance:\n",
        "      print('Insufficient funds')\n",
        "    else:\n",
        "      self.balance -= amount\n",
        "      print(f'Successfully withdrawn {amount} units. New balance: {self.balance}')\n",
        ""
      ],
      "metadata": {
        "id": "xCvZ7lh8M7YA"
      },
      "execution_count": 23,
      "outputs": []
    },
    {
      "cell_type": "markdown",
      "source": [
        "9. (11б). Створіть клас Library, який містить список об'єктів типу Book. Реалізуйте методи для додавання книги, видалення книги та відображення списку книг."
      ],
      "metadata": {
        "id": "tIzL2SJTM8ft"
      }
    },
    {
      "cell_type": "code",
      "source": [
        "class Book:\n",
        "    def __init__(self, title, author):\n",
        "        self.title = title\n",
        "        self.author = author\n",
        "\n",
        "class Library:\n",
        "    def __init__(self):\n",
        "        self.books = []\n",
        "\n",
        "    def add_book(self, book):\n",
        "        self.books.append(book)\n",
        "        print(f\"'{book.title}' -- {book.author} added\")\n",
        "\n",
        "    def remove_book(self, title):\n",
        "        for book in self.books:\n",
        "            if book.title == title:\n",
        "                self.books.remove(book)\n",
        "                print(f\"'{title}' removed \")\n",
        "                return\n",
        "        print(f\"'{title}' not in the library.\")\n",
        "\n",
        "    def all_books(self):\n",
        "        if not self.books:\n",
        "            print(\"There are no books in library\")\n",
        "        else:\n",
        "            print(\"Books in the library:\")\n",
        "            for book in self.books:\n",
        "                print(f\"      '{book.title}' by {book.author}\")\n",
        "\n",
        "library = Library()\n",
        "\n",
        "book1 = Book(\"Little Prince\", \"Antoine de Saint-Exupéry\")\n",
        "book2 = Book(\"The murder of Roger Ackroyd\", \"Agatha Christie\")\n",
        "book3 = Book(\"Philosopher's Stone\", \"J.K. Rowling.\")\n",
        "\n",
        "library.add_book(book1)\n",
        "library.add_book(book2)\n",
        "library.add_book(book3)\n",
        "\n",
        "library.all_books()\n",
        "\n",
        "library.remove_book(\"Little Prince\")\n",
        "\n",
        "library.all_books()\n",
        ""
      ],
      "metadata": {
        "id": "HWxfJKLtNAUZ",
        "colab": {
          "base_uri": "https://localhost:8080/"
        },
        "outputId": "e7e021c7-0736-4c27-8f96-604a8c5f3dc9"
      },
      "execution_count": 26,
      "outputs": [
        {
          "output_type": "stream",
          "name": "stdout",
          "text": [
            "'Little Prince' -- Antoine de Saint-Exupéry added\n",
            "'The murder of Roger Ackroyd' -- Agatha Christie added\n",
            "'Philosopher's Stone' -- J.K. Rowling. added\n",
            "Books in the library:\n",
            "      'Little Prince' by Antoine de Saint-Exupéry\n",
            "      'The murder of Roger Ackroyd' by Agatha Christie\n",
            "      'Philosopher's Stone' by J.K. Rowling.\n",
            "'Little Prince' removed \n",
            "Books in the library:\n",
            "      'The murder of Roger Ackroyd' by Agatha Christie\n",
            "      'Philosopher's Stone' by J.K. Rowling.\n"
          ]
        }
      ]
    },
    {
      "cell_type": "markdown",
      "source": [
        "10. (13б). Створіть клас Person з атрибутами name та age. Створіть ще один клас Employee з такими атрибутами, як department та salary. Створіть клас Manager, який успадковує обидва класи Person та Employee. Продемонструйте використання множинної спадковості, створивши обʼєкт класу Manager та отримавши mro для цього класу."
      ],
      "metadata": {
        "id": "lmV8pAwwNIqu"
      }
    },
    {
      "cell_type": "code",
      "source": [
        "class Person:\n",
        "    def __init__(self, name, age):\n",
        "        self.name = name\n",
        "        self.age = age\n",
        "\n",
        "class Employee:\n",
        "    def __init__(self, department, salary):\n",
        "        self.department = department\n",
        "        self.salary = salary\n",
        "\n",
        "class Manager(Person, Employee):\n",
        "    def __init__(self, name, age, department, salary):\n",
        "        Person.__init__(self, name, age)\n",
        "        Employee.__init__(self, department, salary)\n",
        "\n",
        "    def manager_info(self):\n",
        "        print(f'Name: {self.name}, age: {self.age}, dep: {self.department}, salary: {self.salary}')\n",
        "\n",
        "\n",
        "manager = Manager(name=\"Anna\", age=20, department='devops', salary=3500)\n",
        "manager.manager_info()\n",
        "Manager.mro()\n"
      ],
      "metadata": {
        "id": "R49grKlWNPeN",
        "colab": {
          "base_uri": "https://localhost:8080/"
        },
        "outputId": "ecaddc5d-d3bc-4362-cf06-1a90c4ca5fdb"
      },
      "execution_count": 27,
      "outputs": [
        {
          "output_type": "stream",
          "name": "stdout",
          "text": [
            "Name: Anna, age: 20, dep: devops, salary: 3500\n"
          ]
        },
        {
          "output_type": "execute_result",
          "data": {
            "text/plain": [
              "[__main__.Manager, __main__.Person, __main__.Employee, object]"
            ]
          },
          "metadata": {},
          "execution_count": 27
        }
      ]
    },
    {
      "cell_type": "markdown",
      "source": [
        "# II. Iterator"
      ],
      "metadata": {
        "id": "dIJyUiNBFG8G"
      }
    },
    {
      "cell_type": "markdown",
      "source": [
        "11. (4б). Визначте рядок(str) з 4ма різними за значенням символами. Створіть ітератор на основі цього рядка. Викличте 5 разів функцію next на ітераторі, 4ри перших з них огорніть у ф-цію print()."
      ],
      "metadata": {
        "id": "13vsm0NyKIzL"
      }
    },
    {
      "cell_type": "code",
      "source": [
        "my_str = \"qwer\"\n",
        "\n",
        "my_iter = iter(my_str)\n",
        "\n",
        "for _ in range(5):\n",
        "    current_char = next(my_iter)\n",
        "    if _ < 4:\n",
        "        print(current_char)"
      ],
      "metadata": {
        "id": "81ntabAkKuz-",
        "colab": {
          "base_uri": "https://localhost:8080/",
          "height": 267
        },
        "outputId": "307732fd-e1d9-411a-98d4-eaeead738ce1"
      },
      "execution_count": 30,
      "outputs": [
        {
          "output_type": "stream",
          "name": "stdout",
          "text": [
            "q\n",
            "w\n",
            "e\n",
            "r\n"
          ]
        },
        {
          "output_type": "error",
          "ename": "StopIteration",
          "evalue": "",
          "traceback": [
            "\u001b[0;31m---------------------------------------------------------------------------\u001b[0m",
            "\u001b[0;31mStopIteration\u001b[0m                             Traceback (most recent call last)",
            "\u001b[0;32m<ipython-input-30-e2409c2088cd>\u001b[0m in \u001b[0;36m<cell line: 5>\u001b[0;34m()\u001b[0m\n\u001b[1;32m      4\u001b[0m \u001b[0;34m\u001b[0m\u001b[0m\n\u001b[1;32m      5\u001b[0m \u001b[0;32mfor\u001b[0m \u001b[0m_\u001b[0m \u001b[0;32min\u001b[0m \u001b[0mrange\u001b[0m\u001b[0;34m(\u001b[0m\u001b[0;36m5\u001b[0m\u001b[0;34m)\u001b[0m\u001b[0;34m:\u001b[0m\u001b[0;34m\u001b[0m\u001b[0;34m\u001b[0m\u001b[0m\n\u001b[0;32m----> 6\u001b[0;31m     \u001b[0mcurrent_char\u001b[0m \u001b[0;34m=\u001b[0m \u001b[0mnext\u001b[0m\u001b[0;34m(\u001b[0m\u001b[0mmy_iter\u001b[0m\u001b[0;34m)\u001b[0m\u001b[0;34m\u001b[0m\u001b[0;34m\u001b[0m\u001b[0m\n\u001b[0m\u001b[1;32m      7\u001b[0m     \u001b[0;32mif\u001b[0m \u001b[0m_\u001b[0m \u001b[0;34m<\u001b[0m \u001b[0;36m4\u001b[0m\u001b[0;34m:\u001b[0m\u001b[0;34m\u001b[0m\u001b[0;34m\u001b[0m\u001b[0m\n\u001b[1;32m      8\u001b[0m         \u001b[0mprint\u001b[0m\u001b[0;34m(\u001b[0m\u001b[0mcurrent_char\u001b[0m\u001b[0;34m)\u001b[0m\u001b[0;34m\u001b[0m\u001b[0;34m\u001b[0m\u001b[0m\n",
            "\u001b[0;31mStopIteration\u001b[0m: "
          ]
        }
      ]
    },
    {
      "cell_type": "markdown",
      "source": [
        "А що якщо викликати цю ж функцію на рядку?"
      ],
      "metadata": {
        "id": "aekWHGXOLRsO"
      }
    },
    {
      "cell_type": "code",
      "source": [
        "print(next(iter(my_str)))\n"
      ],
      "metadata": {
        "id": "mxATGsErLV1i",
        "colab": {
          "base_uri": "https://localhost:8080/"
        },
        "outputId": "17a92ab5-72db-4b13-bdc3-7ea7dbc86a5f"
      },
      "execution_count": 31,
      "outputs": [
        {
          "output_type": "stream",
          "name": "stdout",
          "text": [
            "q\n"
          ]
        }
      ]
    },
    {
      "cell_type": "markdown",
      "source": [
        " 12. (5б). Опишіть своїми словами в одному реченні, як ви розумієте різницю між ітерабельними обʼєктами та ітераторами (можна на прикладі)."
      ],
      "metadata": {
        "id": "XwtMEopwJ4pH"
      }
    },
    {
      "cell_type": "markdown",
      "source": [
        "Ітерабельні об'єкти - це колекції даних, які можна перебирати поелементно, такі як списки або рядки.\n",
        "Ітератори - це об'єкти, які можуть послідовно повертати елементи ітерабельного об'єкта за допомогою методу next(), наприклад, функція iter() перетворює ітерабельний об'єкт у відповідний ітератор.\n",
        "Ітератор використовується для послідовного перебору елементів ітерабельного об'єкта. І"
      ],
      "metadata": {
        "id": "-sHrODc3KFn8"
      }
    },
    {
      "cell_type": "markdown",
      "source": [
        "13. (11б). Створіть клас, що має визначений Iterator Protocol та при кожному виклику next повертає літери англійської абетки, поки вони не вичерпаються."
      ],
      "metadata": {
        "id": "E9qJWmNbK8Gl"
      }
    },
    {
      "cell_type": "code",
      "source": [
        "class AlphabetIterator:\n",
        "    def __init__(self):\n",
        "        self.alphabet = \"abcdefghijklmnopqrstuvwxyz\"\n",
        "        self.index = 0\n",
        "\n",
        "    def __iter__(self):\n",
        "        return self\n",
        "\n",
        "    def __next__(self):\n",
        "        if self.index < len(self.alphabet):\n",
        "            current_char = self.alphabet[self.index]\n",
        "            self.index += 1\n",
        "            return current_char\n",
        "        else:\n",
        "            raise StopIteration\n",
        "\n",
        "alphabet_iterator = AlphabetIterator()\n",
        "\n",
        "for _ in range(26):\n",
        "    print(next(alphabet_iterator))\n"
      ],
      "metadata": {
        "id": "cqx-g_RsLo6I",
        "colab": {
          "base_uri": "https://localhost:8080/"
        },
        "outputId": "8cc7e7c0-6bce-4152-9731-7d0d06e08a6f"
      },
      "execution_count": 32,
      "outputs": [
        {
          "output_type": "stream",
          "name": "stdout",
          "text": [
            "a\n",
            "b\n",
            "c\n",
            "d\n",
            "e\n",
            "f\n",
            "g\n",
            "h\n",
            "i\n",
            "j\n",
            "k\n",
            "l\n",
            "m\n",
            "n\n",
            "o\n",
            "p\n",
            "q\n",
            "r\n",
            "s\n",
            "t\n",
            "u\n",
            "v\n",
            "w\n",
            "x\n",
            "y\n",
            "z\n"
          ]
        }
      ]
    },
    {
      "cell_type": "markdown",
      "source": [
        "# Вітаю! Ви велика(ий) молодець, що впоралась(вся). Похваліть себе та побалуйте чимось приємним. Я Вами пишаюся."
      ],
      "metadata": {
        "id": "Z3E3S_s1Fv7-"
      }
    }
  ]
}